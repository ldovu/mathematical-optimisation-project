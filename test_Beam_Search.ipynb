{
 "cells": [
  {
   "cell_type": "code",
   "execution_count": 1,
   "metadata": {},
   "outputs": [],
   "source": [
    "from Pre_Process import Pre_Process\n",
    "from Heuristic import Heuristic"
   ]
  },
  {
   "cell_type": "code",
   "execution_count": 29,
   "metadata": {},
   "outputs": [],
   "source": [
    "file_path_0 = \"Instances/paper_instance.dat\"\n",
    "file_path_1 = \"Instances/in02_001.dat\"\n",
    "file_path_2 = \"Instances/in10_075.dat\"\n",
    "file_path_3 = \"Instances/in10_280.dat\"\n",
    "\n",
    "\n",
    "pre_process = Pre_Process(file_path_1)"
   ]
  },
  {
   "cell_type": "code",
   "execution_count": 30,
   "metadata": {},
   "outputs": [
    {
     "name": "stdout",
     "output_type": "stream",
     "text": [
      "25\n",
      "[ -1  38  41  49  78 113 142 165 165 191 194 207 248 276 282 305 320 337\n",
      " 339 408 425 425 463 476 487 489]\n",
      "[ -1  23 194 159 148  44  54 184 171 168 114 145 154 154  47 195 182 196\n",
      " 108 120  41 175  75 167  35  71]\n",
      "[[ -1  61  89  35 111  60 178  40 115 162 149 181  49   1  68  71 164 123\n",
      "  150 168 147  75  48  55  42   8]\n",
      " [ -1  -1  37 158  47 136   3 141 156  75 114 133  24  18   8  18   1 164\n",
      "  143  70  69  38 117 155 167 103]\n",
      " [ -1 186  -1  42  65 184 112 128  17  58  49 165  50 139 129 104  40  43\n",
      "   71  24 122 128 170  39  69  62]\n",
      " [ -1  72 197  -1   7   8 118  20 116 182 133  82 101 168  19  75  57  80\n",
      "  172 108  45  32  54  82 143  85]\n",
      " [ -1  19  76  75  -1 137  35 127  51   2  47  28  57 127  72  17  56 104\n",
      "  108 177 173 127  86 162  42 127]\n",
      " [ -1  87  83 111 170  -1 157 108  68 114 133 200 177 113 184 198 159  52\n",
      "   94 162  23  52 112 104 168  10]\n",
      " [ -1 113 159 180 138  60  -1 179  96  31  56 144  88   1 155  11 167 191\n",
      "   46 108  48  68   1 182 113 175]\n",
      " [ -1 158  35  22 187 113 170  -1 142  63  21 180 121 191  49 154 139  97\n",
      "  182  73  15  42 118 199  83 109]\n",
      " [ -1 106 101  30 197  52  28 112  -1   7 112  90 158 100  50 127 154  96\n",
      "  158   2 181  97  49  99 171 118]\n",
      " [ -1  80  73 113  44  71  59 182   2  -1 171 191 148  87 141  88  90  52\n",
      "   55  70 108 183 179  20 169 130]\n",
      " [ -1  73  57  40 142 125 118  63   9 126  -1  66  37  16 156 151 200 104\n",
      "  164  52 120 160 172 146  32 101]\n",
      " [ -1 122  26 151 166 133 157 164  33 116 124  -1 182 196 156 181 128  90\n",
      "  152  70   3  68  22  84  82  61]\n",
      " [ -1 142 185  21  95  98 160  40  52  97  68 102  -1  35 150 109  57 161\n",
      "   91   4  85  88 139  25 167 164]\n",
      " [ -1  15  51  95  96 160  63 200 110 131  43 187 178  -1 115 140 155 101\n",
      "   89  76 122 162 199  44 116  39]\n",
      " [ -1 110 183  20  27  14  83 121 129 191  52 114  58  46  -1  33   3 113\n",
      "  189 151 176  91 136 174  88 154]\n",
      " [ -1  88 144 183  77 169 143 179  24 170 160  43  91  61 175  -1  67  80\n",
      "   77 169 158 158  75  98   6 156]\n",
      " [ -1 118  37  26 187 105 150 142 141 115  55  75  55 167  39  93  -1 176\n",
      "  131  62 180  70 184  69 176 141]\n",
      " [ -1  10 101 167 149 156 155  31  56  15 125 199 193  30  70 189   8  -1\n",
      "  196  44  82 152 150  80  60 141]\n",
      " [ -1  29  17 161  46  96  95 136 145  40 109 182 151  84  85  31  56 191\n",
      "   -1  29 156 164  53  19  23 177]\n",
      " [ -1  67  16 135  46 182  11 133 184 131 181  73 106 162  37  17 165  20\n",
      "   80  -1  38  52 170  96  87 142]\n",
      " [ -1  70 160 120  74   7 176   1 114  87 193 174  64 162 152   5 131  27\n",
      "  112 165  -1 169 140 123  85 181]\n",
      " [ -1  88  31 148  89 167  30  35  40  22 144 146  82 106 198 121 173 108\n",
      "   99 161 157  -1 178 171  93 194]\n",
      " [ -1  64 125 191  69 151  34  34  81 196 198 166  31  98 180  28  19 120\n",
      "   92 141   6 142  -1 162 144 128]\n",
      " [ -1 168   7  42 120   6  98  21  19 163 123 195 167  96 147 136 136 155\n",
      "   25 101  62  54  77  -1  10 102]\n",
      " [ -1 153 185  70 154 124  47  69  47  79  94  48  17 117  44  13 123 170\n",
      "  133 177 193  86 187 176  -1 177]\n",
      " [ -1  32  93 104  71 146  10 162  68 127 114 106 153  46  57 107 189 123\n",
      "  153 156  63 175 149 193 181  -1]]\n"
     ]
    }
   ],
   "source": [
    "print(pre_process.get_n_jobs())\n",
    "\n",
    "print(pre_process.release_dates)\n",
    "print(pre_process.processing_times)\n",
    "print(pre_process.setup_times)\n"
   ]
  },
  {
   "cell_type": "code",
   "execution_count": 31,
   "metadata": {},
   "outputs": [],
   "source": [
    "heuristic = Heuristic(file_path_1)"
   ]
  },
  {
   "cell_type": "code",
   "execution_count": 32,
   "metadata": {},
   "outputs": [
    {
     "name": "stdout",
     "output_type": "stream",
     "text": [
      "π1 - Idle time: 99\n",
      "π1 - Completion time: 122\n",
      "π6 - Idle time: 37\n",
      "π6 - Completion time: 353\n",
      "π7 - Idle time: 158\n",
      "π7 - Completion time: 439\n",
      "π17 - Idle time: 76\n",
      "π17 - Completion time: 587\n",
      "π23 - Idle time: 42\n",
      "π23 - Completion time: 780\n"
     ]
    }
   ],
   "source": [
    "# Tests compute_I_and_C function\n",
    "jobs_sequence_1 = [1]\n",
    "idle_time_1, completion_time_1 = heuristic.compute_I_and_C(jobs_sequence_1)\n",
    "print(\"π1 - Idle time:\", idle_time_1)\n",
    "print(\"π1 - Completion time:\", completion_time_1)\n",
    "\n",
    "jobs_sequence_6 = [1, 2]\n",
    "idle_time_6, completion_time_6 = heuristic.compute_I_and_C(jobs_sequence_6)\n",
    "print(\"π6 - Idle time:\", idle_time_6)\n",
    "print(\"π6 - Completion time:\", completion_time_6)\n",
    "\n",
    "jobs_sequence_7 = [1, 3]\n",
    "idle_time_7, completion_time_7 = heuristic.compute_I_and_C(jobs_sequence_7)\n",
    "print(\"π7 - Idle time:\", idle_time_7)\n",
    "print(\"π7 - Completion time:\", completion_time_7)\n",
    "\n",
    "jobs_sequence_8 = [1, 4, 2]\n",
    "idle_time_8, completion_time_8 = heuristic.compute_I_and_C(jobs_sequence_8)\n",
    "print(\"π17 - Idle time:\", idle_time_8)\n",
    "print(\"π17 - Completion time:\", completion_time_8)\n",
    "\n",
    "jobs_sequence_9 = [1, 5, 2, 3]\n",
    "idle_time_9, completion_time_9 = heuristic.compute_I_and_C(jobs_sequence_9)\n",
    "print(\"π23 - Idle time:\", idle_time_9)\n",
    "print(\"π23 - Completion time:\", completion_time_9)\n",
    "\n",
    "\n"
   ]
  },
  {
   "cell_type": "code",
   "execution_count": 33,
   "metadata": {},
   "outputs": [
    {
     "name": "stdout",
     "output_type": "stream",
     "text": [
      "[1, 2, 3, 4, 5, 6, 7, 8, 9, 10, 11, 12, 13, 14, 15, 16, 17, 18, 19, 20, 21, 22, 23, 24, 25]\n"
     ]
    }
   ],
   "source": [
    "all_jobs = [i for i in range(1, pre_process.get_n_jobs() + 1)]\n",
    "print(all_jobs)"
   ]
  },
  {
   "cell_type": "code",
   "execution_count": 34,
   "metadata": {},
   "outputs": [
    {
     "name": "stdout",
     "output_type": "stream",
     "text": [
      "π1 - Lower bound: 3470\n",
      "π1 - Lower bound: 3504\n",
      "π3 - Lower bound: 3445\n",
      "π4 - Lower bound: 3563\n",
      "π5 - Lower bound: 3548\n",
      "π6 - Lower bound: 3520\n",
      "π8 - Lower bound: 3619\n",
      "π9 - Lower bound: 3747\n"
     ]
    }
   ],
   "source": [
    "partial_solution_1 = [1]\n",
    "LB_1 = heuristic.compute_lower_bound(partial_solution_1, all_jobs)\n",
    "print(\"π1 - Lower bound:\", LB_1)\n",
    "\n",
    "partial_solution_2 = [2]\n",
    "LB_2 = heuristic.compute_lower_bound(partial_solution_2, all_jobs)\n",
    "print(\"π1 - Lower bound:\", LB_2)\n",
    "\n",
    "partial_solution_3 = [3]\n",
    "LB_3 = heuristic.compute_lower_bound(partial_solution_3, all_jobs)\n",
    "print(\"π3 - Lower bound:\", LB_3)\n",
    "\n",
    "partial_solution_4 = [4]\n",
    "LB_4 = heuristic.compute_lower_bound(partial_solution_4, all_jobs)\n",
    "print(\"π4 - Lower bound:\", LB_4)\n",
    "\n",
    "partial_solution_5 = [5]\n",
    "LB_5 = heuristic.compute_lower_bound(partial_solution_5, all_jobs)\n",
    "print(\"π5 - Lower bound:\", LB_5)\n",
    "\n",
    "partial_solution_6 = [1,2]\n",
    "LB_6 = heuristic.compute_lower_bound(partial_solution_6, all_jobs)\n",
    "print(\"π6 - Lower bound:\", LB_6)\n",
    "\n",
    "partial_solution_8 = [1, 4, 2]\n",
    "LB_8 = heuristic.compute_lower_bound(partial_solution_8, all_jobs)\n",
    "print(\"π8 - Lower bound:\", LB_8)\n",
    "\n",
    "partial_solution_9 = [1, 5, 2, 3]\n",
    "LB_9 = heuristic.compute_lower_bound(partial_solution_9, all_jobs)\n",
    "print(\"π9 - Lower bound:\", LB_9)\n",
    "\n"
   ]
  },
  {
   "cell_type": "code",
   "execution_count": 53,
   "metadata": {},
   "outputs": [
    {
     "name": "stdout",
     "output_type": "stream",
     "text": [
      "Best job sequence: [3, 4, 9, 8, 19, 2, 17, 1, 14, 16, 10, 13, 23, 5, 25, 6, 22, 12, 7, 21, 18, 15, 24, 11, 20]\n",
      "Best completion time: 3743\n",
      "Length best sequence: 25\n"
     ]
    }
   ],
   "source": [
    "# Example usage\n",
    "all_jobs = [i for i in range (1, pre_process.get_n_jobs() + 1)]\n",
    "omega = 3\n",
    "N = 2\n",
    "gamma = 0.5\n",
    "\n",
    "best_sequence, best_completion_time = heuristic.beam_search(omega, N, gamma, all_jobs)\n",
    "\n",
    "print(\"Best job sequence:\", best_sequence)\n",
    "print(\"Best completion time:\", best_completion_time)\n",
    "print(\"Length best sequence:\", len(best_sequence))\n"
   ]
  }
 ],
 "metadata": {
  "kernelspec": {
   "display_name": "Python 3",
   "language": "python",
   "name": "python3"
  },
  "language_info": {
   "codemirror_mode": {
    "name": "ipython",
    "version": 3
   },
   "file_extension": ".py",
   "mimetype": "text/x-python",
   "name": "python",
   "nbconvert_exporter": "python",
   "pygments_lexer": "ipython3",
   "version": "3.10.8"
  }
 },
 "nbformat": 4,
 "nbformat_minor": 2
}
