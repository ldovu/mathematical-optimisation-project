{
 "cells": [
  {
   "cell_type": "code",
   "execution_count": 1,
   "metadata": {},
   "outputs": [],
   "source": [
    "from Solver import Solver"
   ]
  },
  {
   "cell_type": "code",
   "execution_count": 2,
   "metadata": {},
   "outputs": [
    {
     "name": "stdout",
     "output_type": "stream",
     "text": [
      "Starting pre-processing...\n",
      "Set parameter Username\n",
      "Academic license - for non-commercial use only - expires 2025-05-23\n",
      "Defining variables...\n",
      "Defining costs...\n",
      "Defining constraints...\n"
     ]
    }
   ],
   "source": [
    "file_path_1 = \"Instances/in02_001.dat\"\n",
    "\n",
    "solver_1 = Solver(file_path_1)\n",
    "\n",
    "print(f\"n_jobs = {solver_1.data.n_jobs}\")\n",
    "\n",
    "# solver_1.solve()\n",
    "\n",
    "# solution_path_1 = solver_1.get_solution_path()\n",
    "# print(\"\\n\\n\\nSolution arcs:\")\n",
    "# print(solution_path_1)\n",
    "\n",
    "# solution_alpha_1 = solver_1.get_solution_alpha()\n",
    "# print(\"\\n\\n\\nSolution alpha:\")\n",
    "# print(solution_alpha_1)"
   ]
  }
 ],
 "metadata": {
  "kernelspec": {
   "display_name": "Python 3",
   "language": "python",
   "name": "python3"
  },
  "language_info": {
   "codemirror_mode": {
    "name": "ipython",
    "version": 3
   },
   "file_extension": ".py",
   "mimetype": "text/x-python",
   "name": "python",
   "nbconvert_exporter": "python",
   "pygments_lexer": "ipython3",
   "version": "3.12.3"
  }
 },
 "nbformat": 4,
 "nbformat_minor": 2
}
