{
 "cells": [
  {
   "cell_type": "code",
   "execution_count": 1,
   "metadata": {},
   "outputs": [],
   "source": [
    "from Solver import Solver"
   ]
  },
  {
   "cell_type": "code",
   "execution_count": 2,
   "metadata": {},
   "outputs": [
    {
     "name": "stdout",
     "output_type": "stream",
     "text": [
      "Set parameter Username\n",
      "Academic license - for non-commercial use only - expires 2025-05-23\n"
     ]
    }
   ],
   "source": [
    "file_path_test = \"Instances/paper_instance.dat\"\n",
    "\n",
    "solver_test = Solver(file_path_test)"
   ]
  },
  {
   "cell_type": "code",
   "execution_count": 3,
   "metadata": {},
   "outputs": [
    {
     "name": "stdout",
     "output_type": "stream",
     "text": [
      "Gurobi Optimizer version 11.0.0 build v11.0.0rc2 (win64 - Windows 11+.0 (22631.2))\n",
      "\n",
      "CPU model: 12th Gen Intel(R) Core(TM) i7-1260P, instruction set [SSE2|AVX|AVX2]\n",
      "Thread count: 12 physical cores, 16 logical processors, using up to 16 threads\n",
      "\n",
      "Optimize a model with 113 rows, 422 columns and 11962 nonzeros\n",
      "Model fingerprint: 0xd65bacd4\n",
      "Variable types: 1 continuous, 421 integer (421 binary)\n",
      "Coefficient statistics:\n",
      "  Matrix range     [1e+00, 2e+01]\n",
      "  Objective range  [1e+00, 1e+00]\n",
      "  Bounds range     [1e+00, 1e+00]\n",
      "  RHS range        [1e+00, 1e+00]\n",
      "Presolve removed 96 rows and 391 columns\n",
      "Presolve time: 0.02s\n",
      "Presolved: 17 rows, 31 columns, 80 nonzeros\n",
      "Variable types: 0 continuous, 31 integer (30 binary)\n",
      "Found heuristic solution: objective 17.0000000\n",
      "Found heuristic solution: objective 16.0000000\n",
      "Found heuristic solution: objective 14.0000000\n",
      "\n",
      "Explored 0 nodes (0 simplex iterations) in 0.05 seconds (0.00 work units)\n",
      "Thread count was 16 (of 16 available processors)\n",
      "\n",
      "Solution count 3: 14 16 17 \n",
      "\n",
      "Optimal solution found (tolerance 1.00e-04)\n",
      "Best objective 1.400000000000e+01, best bound 1.400000000000e+01, gap 0.0000%\n",
      "\n",
      "\n",
      "\n",
      "Soltuion arcs:\n"
     ]
    },
    {
     "data": {
      "text/plain": [
       "[('A1', 4, 5, 5, 14),\n",
       " ('A1', 2, 6, 4, 13),\n",
       " ('A1', 5, 8, 2, 11),\n",
       " ('A2', 0, 10, 3, 12),\n",
       " ('A1', 3, 12, 1, 14),\n",
       " ('A3', 1, 12, 0, 22)]"
      ]
     },
     "execution_count": 3,
     "metadata": {},
     "output_type": "execute_result"
    }
   ],
   "source": [
    "solver_test.solve()\n",
    "solution_path = solver_test.get_solution_path()\n",
    "print(\"\\n\\n\\nSoltuion arcs:\")\n",
    "solution_path"
   ]
  }
 ],
 "metadata": {
  "kernelspec": {
   "display_name": "Python 3",
   "language": "python",
   "name": "python3"
  },
  "language_info": {
   "codemirror_mode": {
    "name": "ipython",
    "version": 3
   },
   "file_extension": ".py",
   "mimetype": "text/x-python",
   "name": "python",
   "nbconvert_exporter": "python",
   "pygments_lexer": "ipython3",
   "version": "3.12.3"
  }
 },
 "nbformat": 4,
 "nbformat_minor": 2
}
