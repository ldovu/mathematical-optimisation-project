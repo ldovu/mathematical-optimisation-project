{
 "cells": [
  {
   "cell_type": "code",
   "execution_count": 1,
   "metadata": {},
   "outputs": [],
   "source": [
    "from Solver import Solver"
   ]
  },
  {
   "cell_type": "code",
   "execution_count": 2,
   "metadata": {},
   "outputs": [
    {
     "name": "stdout",
     "output_type": "stream",
     "text": [
      "Set parameter Username\n",
      "Academic license - for non-commercial use only - expires 2025-05-23\n",
      "Gurobi Optimizer version 11.0.0 build v11.0.0rc2 (win64 - Windows 11+.0 (22631.2))\n",
      "\n",
      "CPU model: 12th Gen Intel(R) Core(TM) i7-1260P, instruction set [SSE2|AVX|AVX2]\n",
      "Thread count: 12 physical cores, 16 logical processors, using up to 16 threads\n",
      "\n",
      "Optimize a model with 113 rows, 422 columns and 1315 nonzeros\n",
      "Model fingerprint: 0x4ea021ca\n",
      "Variable types: 0 continuous, 422 integer (421 binary)\n",
      "Coefficient statistics:\n",
      "  Matrix range     [1e+00, 2e+01]\n",
      "  Objective range  [1e+00, 1e+00]\n",
      "  Bounds range     [1e+00, 1e+00]\n",
      "  RHS range        [1e+00, 1e+00]\n",
      "Presolve removed 36 rows and 155 columns\n",
      "Presolve time: 0.04s\n",
      "Presolved: 77 rows, 267 columns, 747 nonzeros\n",
      "Variable types: 0 continuous, 267 integer (266 binary)\n",
      "\n",
      "Root relaxation: objective 1.726154e+01, 163 iterations, 0.00 seconds (0.00 work units)\n",
      "\n",
      "    Nodes    |    Current Node    |     Objective Bounds      |     Work\n",
      " Expl Unexpl |  Obj  Depth IntInf | Incumbent    BestBd   Gap | It/Node Time\n",
      "\n",
      "     0     0   17.26154    0   14          -   17.26154      -     -    0s\n",
      "H    0     0                      22.0000000   17.26154  21.5%     -    0s\n",
      "H    0     0                      21.0000000   17.26154  17.8%     -    0s\n",
      "\n",
      "Cutting planes:\n",
      "  Gomory: 1\n",
      "  RLT: 3\n",
      "\n",
      "Explored 1 nodes (173 simplex iterations) in 0.09 seconds (0.01 work units)\n",
      "Thread count was 16 (of 16 available processors)\n",
      "\n",
      "Solution count 2: 21 22 \n",
      "\n",
      "Optimal solution found (tolerance 1.00e-04)\n",
      "Best objective 2.100000000000e+01, best bound 2.100000000000e+01, gap 0.0000%\n",
      "\n",
      "\n",
      "\n",
      "Solution arcs:\n",
      "[('A4', 0, 0, 0, 1), ('A2', 0, 1, 1, 4), ('A4', 1, 4, 1, 5), ('A4', 1, 5, 1, 6), ('A1', 1, 6, 4, 9), ('A4', 4, 9, 4, 10), ('A1', 4, 10, 3, 14), ('A1', 3, 14, 5, 18), ('A1', 5, 18, 2, 21), ('A4', 2, 21, 2, 22), ('A3', 2, 22, 0, 22)]\n",
      "\n",
      "\n",
      "\n",
      "Solution alpha:\n",
      "{'alpha': 21.0}\n"
     ]
    }
   ],
   "source": [
    "file_path_test = \"Instances/paper_instance.dat\"\n",
    "\n",
    "solver_test = Solver(file_path_test)\n",
    "\n",
    "print(f\"n_jobs = {solver_test.data.n_jobs}\")\n",
    "\n",
    "solver_test.solve()\n",
    "\n",
    "solution_path_test = solver_test.get_solution_path()\n",
    "print(\"\\n\\n\\nSolution arcs:\")\n",
    "print(solution_path_test)\n",
    "\n",
    "solution_alpha_test = solver_test.get_solution_alpha()\n",
    "print(\"\\n\\n\\nSolution alpha:\")\n",
    "print(solution_alpha_test)"
   ]
  },
  {
   "cell_type": "code",
   "execution_count": 3,
   "metadata": {},
   "outputs": [],
   "source": [
    "file_path_1 = \"Instances/in10_280.dat\"\n",
    "\n",
    "solver_1 = Solver(file_path_1)\n",
    "\n",
    "print(f\"n_jobs = {solver_1.data.n_jobs}\")\n",
    "\n",
    "solver_1.solve()\n",
    "\n",
    "solution_path_1 = solver_1.get_solution_path()\n",
    "print(\"\\n\\n\\nSolution arcs:\")\n",
    "print(solution_path_1)\n",
    "\n",
    "solution_alpha_1 = solver_1.get_solution_alpha()\n",
    "print(\"\\n\\n\\nSolution alpha:\")\n",
    "print(solution_alpha_1)"
   ]
  }
 ],
 "metadata": {
  "kernelspec": {
   "display_name": "Python 3",
   "language": "python",
   "name": "python3"
  },
  "language_info": {
   "codemirror_mode": {
    "name": "ipython",
    "version": 3
   },
   "file_extension": ".py",
   "mimetype": "text/x-python",
   "name": "python",
   "nbconvert_exporter": "python",
   "pygments_lexer": "ipython3",
   "version": "3.12.3"
  }
 },
 "nbformat": 4,
 "nbformat_minor": 2
}
